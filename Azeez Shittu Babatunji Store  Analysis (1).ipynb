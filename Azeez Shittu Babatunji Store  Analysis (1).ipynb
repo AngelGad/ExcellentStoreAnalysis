{
 "cells": [
  {
   "cell_type": "code",
   "execution_count": 4,
   "metadata": {},
   "outputs": [],
   "source": [
    "# Importing the libraries\n",
    "import pandas as pd\n",
    "import seaborn as sns\n",
    "import numpy as np\n",
    "import matplotlib.pyplot as plt"
   ]
  },
  {
   "cell_type": "code",
   "execution_count": 5,
   "metadata": {},
   "outputs": [],
   "source": [
    "# Importing the data\n",
    "df = pd.read_csv('Babatunde Score.xls')"
   ]
  },
  {
   "cell_type": "code",
   "execution_count": 6,
   "metadata": {},
   "outputs": [
    {
     "data": {
      "text/html": [
       "<div>\n",
       "<style scoped>\n",
       "    .dataframe tbody tr th:only-of-type {\n",
       "        vertical-align: middle;\n",
       "    }\n",
       "\n",
       "    .dataframe tbody tr th {\n",
       "        vertical-align: top;\n",
       "    }\n",
       "\n",
       "    .dataframe thead th {\n",
       "        text-align: right;\n",
       "    }\n",
       "</style>\n",
       "<table border=\"1\" class=\"dataframe\">\n",
       "  <thead>\n",
       "    <tr style=\"text-align: right;\">\n",
       "      <th></th>\n",
       "      <th>Item_ID</th>\n",
       "      <th>Store_ID</th>\n",
       "      <th>Item_Store_ID</th>\n",
       "      <th>Item_Weight</th>\n",
       "      <th>Item_Sugar_Content</th>\n",
       "      <th>Item_Visibility</th>\n",
       "      <th>Item_Type</th>\n",
       "      <th>Item_Price</th>\n",
       "      <th>Store_Start_Year</th>\n",
       "      <th>Store_Size</th>\n",
       "      <th>Store_Location_Type</th>\n",
       "      <th>Store_Type</th>\n",
       "      <th>Item_Store_Returns</th>\n",
       "    </tr>\n",
       "  </thead>\n",
       "  <tbody>\n",
       "    <tr>\n",
       "      <th>0</th>\n",
       "      <td>DRA12</td>\n",
       "      <td>BABATUNJI010</td>\n",
       "      <td>DRA12_BABATUNJI010</td>\n",
       "      <td>11.6</td>\n",
       "      <td>Low Sugar</td>\n",
       "      <td>0.068535</td>\n",
       "      <td>Soft Drinks</td>\n",
       "      <td>357.54</td>\n",
       "      <td>2005</td>\n",
       "      <td>NaN</td>\n",
       "      <td>Cluster 3</td>\n",
       "      <td>Grocery Store</td>\n",
       "      <td>709.08</td>\n",
       "    </tr>\n",
       "    <tr>\n",
       "      <th>1</th>\n",
       "      <td>DRA12</td>\n",
       "      <td>BABATUNJI013</td>\n",
       "      <td>DRA12_BABATUNJI013</td>\n",
       "      <td>11.6</td>\n",
       "      <td>Low Sugar</td>\n",
       "      <td>0.040912</td>\n",
       "      <td>Soft Drinks</td>\n",
       "      <td>355.79</td>\n",
       "      <td>1994</td>\n",
       "      <td>High</td>\n",
       "      <td>Cluster 3</td>\n",
       "      <td>Supermarket Type1</td>\n",
       "      <td>6381.69</td>\n",
       "    </tr>\n",
       "    <tr>\n",
       "      <th>2</th>\n",
       "      <td>DRA12</td>\n",
       "      <td>BABATUNJI017</td>\n",
       "      <td>DRA12_BABATUNJI017</td>\n",
       "      <td>11.6</td>\n",
       "      <td>Low Sugar</td>\n",
       "      <td>0.041178</td>\n",
       "      <td>Soft Drinks</td>\n",
       "      <td>350.79</td>\n",
       "      <td>2014</td>\n",
       "      <td>NaN</td>\n",
       "      <td>Cluster 2</td>\n",
       "      <td>Supermarket Type1</td>\n",
       "      <td>6381.69</td>\n",
       "    </tr>\n",
       "    <tr>\n",
       "      <th>3</th>\n",
       "      <td>DRA12</td>\n",
       "      <td>BABATUNJI018</td>\n",
       "      <td>DRA12_BABATUNJI018</td>\n",
       "      <td>11.6</td>\n",
       "      <td>Low Sugar</td>\n",
       "      <td>0.041113</td>\n",
       "      <td>Soft Drinks</td>\n",
       "      <td>355.04</td>\n",
       "      <td>2016</td>\n",
       "      <td>Medium</td>\n",
       "      <td>Cluster 3</td>\n",
       "      <td>Supermarket Type2</td>\n",
       "      <td>2127.23</td>\n",
       "    </tr>\n",
       "    <tr>\n",
       "      <th>4</th>\n",
       "      <td>DRA12</td>\n",
       "      <td>BABATUNJI035</td>\n",
       "      <td>DRA12_BABATUNJI035</td>\n",
       "      <td>11.6</td>\n",
       "      <td>Ultra Low Sugar</td>\n",
       "      <td>0.000000</td>\n",
       "      <td>Soft Drinks</td>\n",
       "      <td>354.79</td>\n",
       "      <td>2011</td>\n",
       "      <td>Small</td>\n",
       "      <td>Cluster 2</td>\n",
       "      <td>Supermarket Type1</td>\n",
       "      <td>2481.77</td>\n",
       "    </tr>\n",
       "  </tbody>\n",
       "</table>\n",
       "</div>"
      ],
      "text/plain": [
       "  Item_ID      Store_ID       Item_Store_ID  Item_Weight Item_Sugar_Content  \\\n",
       "0   DRA12  BABATUNJI010  DRA12_BABATUNJI010         11.6          Low Sugar   \n",
       "1   DRA12  BABATUNJI013  DRA12_BABATUNJI013         11.6          Low Sugar   \n",
       "2   DRA12  BABATUNJI017  DRA12_BABATUNJI017         11.6          Low Sugar   \n",
       "3   DRA12  BABATUNJI018  DRA12_BABATUNJI018         11.6          Low Sugar   \n",
       "4   DRA12  BABATUNJI035  DRA12_BABATUNJI035         11.6    Ultra Low Sugar   \n",
       "\n",
       "   Item_Visibility    Item_Type  Item_Price  Store_Start_Year Store_Size  \\\n",
       "0         0.068535  Soft Drinks      357.54              2005        NaN   \n",
       "1         0.040912  Soft Drinks      355.79              1994       High   \n",
       "2         0.041178  Soft Drinks      350.79              2014        NaN   \n",
       "3         0.041113  Soft Drinks      355.04              2016     Medium   \n",
       "4         0.000000  Soft Drinks      354.79              2011      Small   \n",
       "\n",
       "  Store_Location_Type         Store_Type  Item_Store_Returns  \n",
       "0           Cluster 3      Grocery Store              709.08  \n",
       "1           Cluster 3  Supermarket Type1             6381.69  \n",
       "2           Cluster 2  Supermarket Type1             6381.69  \n",
       "3           Cluster 3  Supermarket Type2             2127.23  \n",
       "4           Cluster 2  Supermarket Type1             2481.77  "
      ]
     },
     "execution_count": 6,
     "metadata": {},
     "output_type": "execute_result"
    }
   ],
   "source": [
    "# Check the head of the data\n",
    "df.head()"
   ]
  },
  {
   "cell_type": "code",
   "execution_count": 7,
   "metadata": {},
   "outputs": [
    {
     "name": "stdout",
     "output_type": "stream",
     "text": [
      "<class 'pandas.core.frame.DataFrame'>\n",
      "RangeIndex: 4990 entries, 0 to 4989\n",
      "Data columns (total 13 columns):\n",
      " #   Column               Non-Null Count  Dtype  \n",
      "---  ------               --------------  -----  \n",
      " 0   Item_ID              4990 non-null   object \n",
      " 1   Store_ID             4990 non-null   object \n",
      " 2   Item_Store_ID        4990 non-null   object \n",
      " 3   Item_Weight          4188 non-null   float64\n",
      " 4   Item_Sugar_Content   4990 non-null   object \n",
      " 5   Item_Visibility      4990 non-null   float64\n",
      " 6   Item_Type            4990 non-null   object \n",
      " 7   Item_Price           4990 non-null   float64\n",
      " 8   Store_Start_Year     4990 non-null   int64  \n",
      " 9   Store_Size           3540 non-null   object \n",
      " 10  Store_Location_Type  4990 non-null   object \n",
      " 11  Store_Type           4990 non-null   object \n",
      " 12  Item_Store_Returns   4990 non-null   float64\n",
      "dtypes: float64(4), int64(1), object(8)\n",
      "memory usage: 506.9+ KB\n"
     ]
    }
   ],
   "source": [
    "# Check the info() and describe() method\n",
    "df.info()"
   ]
  },
  {
   "cell_type": "code",
   "execution_count": 8,
   "metadata": {},
   "outputs": [
    {
     "data": {
      "text/html": [
       "<div>\n",
       "<style scoped>\n",
       "    .dataframe tbody tr th:only-of-type {\n",
       "        vertical-align: middle;\n",
       "    }\n",
       "\n",
       "    .dataframe tbody tr th {\n",
       "        vertical-align: top;\n",
       "    }\n",
       "\n",
       "    .dataframe thead th {\n",
       "        text-align: right;\n",
       "    }\n",
       "</style>\n",
       "<table border=\"1\" class=\"dataframe\">\n",
       "  <thead>\n",
       "    <tr style=\"text-align: right;\">\n",
       "      <th></th>\n",
       "      <th>Item_Weight</th>\n",
       "      <th>Item_Visibility</th>\n",
       "      <th>Item_Price</th>\n",
       "      <th>Store_Start_Year</th>\n",
       "      <th>Item_Store_Returns</th>\n",
       "    </tr>\n",
       "  </thead>\n",
       "  <tbody>\n",
       "    <tr>\n",
       "      <th>count</th>\n",
       "      <td>4188.000000</td>\n",
       "      <td>4990.000000</td>\n",
       "      <td>4990.000000</td>\n",
       "      <td>4990.000000</td>\n",
       "      <td>4990.000000</td>\n",
       "    </tr>\n",
       "    <tr>\n",
       "      <th>mean</th>\n",
       "      <td>12.908838</td>\n",
       "      <td>0.066916</td>\n",
       "      <td>391.803796</td>\n",
       "      <td>2004.783567</td>\n",
       "      <td>6103.520164</td>\n",
       "    </tr>\n",
       "    <tr>\n",
       "      <th>std</th>\n",
       "      <td>4.703256</td>\n",
       "      <td>0.053058</td>\n",
       "      <td>119.378259</td>\n",
       "      <td>8.283151</td>\n",
       "      <td>4447.333835</td>\n",
       "    </tr>\n",
       "    <tr>\n",
       "      <th>min</th>\n",
       "      <td>4.555000</td>\n",
       "      <td>0.000000</td>\n",
       "      <td>78.730000</td>\n",
       "      <td>1992.000000</td>\n",
       "      <td>83.230000</td>\n",
       "    </tr>\n",
       "    <tr>\n",
       "      <th>25%</th>\n",
       "      <td>8.767500</td>\n",
       "      <td>0.027273</td>\n",
       "      <td>307.890000</td>\n",
       "      <td>1994.000000</td>\n",
       "      <td>2757.660000</td>\n",
       "    </tr>\n",
       "    <tr>\n",
       "      <th>50%</th>\n",
       "      <td>12.600000</td>\n",
       "      <td>0.053564</td>\n",
       "      <td>393.860000</td>\n",
       "      <td>2006.000000</td>\n",
       "      <td>5374.675000</td>\n",
       "    </tr>\n",
       "    <tr>\n",
       "      <th>75%</th>\n",
       "      <td>17.100000</td>\n",
       "      <td>0.095358</td>\n",
       "      <td>465.067500</td>\n",
       "      <td>2011.000000</td>\n",
       "      <td>8522.240000</td>\n",
       "    </tr>\n",
       "    <tr>\n",
       "      <th>max</th>\n",
       "      <td>21.350000</td>\n",
       "      <td>0.328391</td>\n",
       "      <td>667.220000</td>\n",
       "      <td>2016.000000</td>\n",
       "      <td>32717.410000</td>\n",
       "    </tr>\n",
       "  </tbody>\n",
       "</table>\n",
       "</div>"
      ],
      "text/plain": [
       "       Item_Weight  Item_Visibility   Item_Price  Store_Start_Year  \\\n",
       "count  4188.000000      4990.000000  4990.000000       4990.000000   \n",
       "mean     12.908838         0.066916   391.803796       2004.783567   \n",
       "std       4.703256         0.053058   119.378259          8.283151   \n",
       "min       4.555000         0.000000    78.730000       1992.000000   \n",
       "25%       8.767500         0.027273   307.890000       1994.000000   \n",
       "50%      12.600000         0.053564   393.860000       2006.000000   \n",
       "75%      17.100000         0.095358   465.067500       2011.000000   \n",
       "max      21.350000         0.328391   667.220000       2016.000000   \n",
       "\n",
       "       Item_Store_Returns  \n",
       "count         4990.000000  \n",
       "mean          6103.520164  \n",
       "std           4447.333835  \n",
       "min             83.230000  \n",
       "25%           2757.660000  \n",
       "50%           5374.675000  \n",
       "75%           8522.240000  \n",
       "max          32717.410000  "
      ]
     },
     "execution_count": 8,
     "metadata": {},
     "output_type": "execute_result"
    }
   ],
   "source": [
    "df.describe()"
   ]
  },
  {
   "cell_type": "code",
   "execution_count": 9,
   "metadata": {},
   "outputs": [
    {
     "data": {
      "text/plain": [
       "Item_ID                   0\n",
       "Store_ID                  0\n",
       "Item_Store_ID             0\n",
       "Item_Weight             802\n",
       "Item_Sugar_Content        0\n",
       "Item_Visibility           0\n",
       "Item_Type                 0\n",
       "Item_Price                0\n",
       "Store_Start_Year          0\n",
       "Store_Size             1450\n",
       "Store_Location_Type       0\n",
       "Store_Type                0\n",
       "Item_Store_Returns        0\n",
       "dtype: int64"
      ]
     },
     "execution_count": 9,
     "metadata": {},
     "output_type": "execute_result"
    }
   ],
   "source": [
    "# Check for missing values\n",
    "df.isnull().sum()"
   ]
  },
  {
   "cell_type": "code",
   "execution_count": 7,
   "metadata": {},
   "outputs": [],
   "source": [
    "# Filling missing values\n",
    "# There are missing values in the Item_Weight and the Store_Size. It will be filled with the mode of the feature."
   ]
  },
  {
   "cell_type": "code",
   "execution_count": 10,
   "metadata": {},
   "outputs": [
    {
     "data": {
      "text/plain": [
       "count    4188.000000\n",
       "mean       12.908838\n",
       "std         4.703256\n",
       "min         4.555000\n",
       "25%         8.767500\n",
       "50%        12.600000\n",
       "75%        17.100000\n",
       "max        21.350000\n",
       "Name: Item_Weight, dtype: float64"
      ]
     },
     "execution_count": 10,
     "metadata": {},
     "output_type": "execute_result"
    }
   ],
   "source": [
    "df['Item_Weight'].describe()"
   ]
  },
  {
   "cell_type": "code",
   "execution_count": 11,
   "metadata": {},
   "outputs": [],
   "source": [
    "df['Item_Weight'] = df['Item_Weight'].fillna(12.9)"
   ]
  },
  {
   "cell_type": "code",
   "execution_count": 12,
   "metadata": {},
   "outputs": [
    {
     "data": {
      "text/plain": [
       "Medium    1582\n",
       "Small     1364\n",
       "High       594\n",
       "Name: Store_Size, dtype: int64"
      ]
     },
     "execution_count": 12,
     "metadata": {},
     "output_type": "execute_result"
    }
   ],
   "source": [
    "df['Store_Size'].value_counts()"
   ]
  },
  {
   "cell_type": "code",
   "execution_count": 13,
   "metadata": {},
   "outputs": [],
   "source": [
    "df['Store_Size'] = df['Store_Size'].fillna('Medium')"
   ]
  },
  {
   "cell_type": "code",
   "execution_count": 14,
   "metadata": {},
   "outputs": [
    {
     "name": "stdout",
     "output_type": "stream",
     "text": [
      "<class 'pandas.core.frame.DataFrame'>\n",
      "RangeIndex: 4990 entries, 0 to 4989\n",
      "Data columns (total 13 columns):\n",
      " #   Column               Non-Null Count  Dtype  \n",
      "---  ------               --------------  -----  \n",
      " 0   Item_ID              4990 non-null   object \n",
      " 1   Store_ID             4990 non-null   object \n",
      " 2   Item_Store_ID        4990 non-null   object \n",
      " 3   Item_Weight          4990 non-null   float64\n",
      " 4   Item_Sugar_Content   4990 non-null   object \n",
      " 5   Item_Visibility      4990 non-null   float64\n",
      " 6   Item_Type            4990 non-null   object \n",
      " 7   Item_Price           4990 non-null   float64\n",
      " 8   Store_Start_Year     4990 non-null   int64  \n",
      " 9   Store_Size           4990 non-null   object \n",
      " 10  Store_Location_Type  4990 non-null   object \n",
      " 11  Store_Type           4990 non-null   object \n",
      " 12  Item_Store_Returns   4990 non-null   float64\n",
      "dtypes: float64(4), int64(1), object(8)\n",
      "memory usage: 506.9+ KB\n"
     ]
    }
   ],
   "source": [
    "df.info()"
   ]
  },
  {
   "cell_type": "markdown",
   "metadata": {},
   "source": [
    "# EDA"
   ]
  },
  {
   "cell_type": "markdown",
   "metadata": {},
   "source": [
    "Time to visualize the data for some insights."
   ]
  },
  {
   "cell_type": "code",
   "execution_count": 66,
   "metadata": {},
   "outputs": [
    {
     "data": {
      "text/plain": [
       "<AxesSubplot:xlabel='Store_Size', ylabel='count'>"
      ]
     },
     "execution_count": 66,
     "metadata": {},
     "output_type": "execute_result"
    },
    {
     "data": {
      "image/png": "[encoded data removed]",
      "text/plain": [
       "<Figure size 720x432 with 1 Axes>"
      ]
     },
     "metadata": {
      "needs_background": "light"
     },
     "output_type": "display_data"
    }
   ],
   "source": [
    "plt.figure(figsize=(10,6))\n",
    "sns.countplot(x='Store_Size',data=df)"
   ]
  },
  {
   "cell_type": "markdown",
   "metadata": {},
   "source": [
    "Based on this, most of the stores have a medium store size"
   ]
  },
  {
   "cell_type": "code",
   "execution_count": 15,
   "metadata": {},
   "outputs": [
    {
     "data": {
      "text/html": [
       "<div>\n",
       "<style scoped>\n",
       "    .dataframe tbody tr th:only-of-type {\n",
       "        vertical-align: middle;\n",
       "    }\n",
       "\n",
       "    .dataframe tbody tr th {\n",
       "        vertical-align: top;\n",
       "    }\n",
       "\n",
       "    .dataframe thead th {\n",
       "        text-align: right;\n",
       "    }\n",
       "</style>\n",
       "<table border=\"1\" class=\"dataframe\">\n",
       "  <thead>\n",
       "    <tr style=\"text-align: right;\">\n",
       "      <th></th>\n",
       "      <th>Item_ID</th>\n",
       "      <th>Store_ID</th>\n",
       "      <th>Item_Store_ID</th>\n",
       "      <th>Item_Weight</th>\n",
       "      <th>Item_Sugar_Content</th>\n",
       "      <th>Item_Visibility</th>\n",
       "      <th>Item_Type</th>\n",
       "      <th>Item_Price</th>\n",
       "      <th>Store_Start_Year</th>\n",
       "      <th>Store_Size</th>\n",
       "      <th>Store_Location_Type</th>\n",
       "      <th>Store_Type</th>\n",
       "      <th>Item_Store_Returns</th>\n",
       "      <th>Store_Age</th>\n",
       "    </tr>\n",
       "  </thead>\n",
       "  <tbody>\n",
       "    <tr>\n",
       "      <th>0</th>\n",
       "      <td>DRA12</td>\n",
       "      <td>BABATUNJI010</td>\n",
       "      <td>DRA12_BABATUNJI010</td>\n",
       "      <td>11.60</td>\n",
       "      <td>Low Sugar</td>\n",
       "      <td>0.068535</td>\n",
       "      <td>Soft Drinks</td>\n",
       "      <td>357.54</td>\n",
       "      <td>2005</td>\n",
       "      <td>Medium</td>\n",
       "      <td>Cluster 3</td>\n",
       "      <td>Grocery Store</td>\n",
       "      <td>709.08</td>\n",
       "      <td>16</td>\n",
       "    </tr>\n",
       "    <tr>\n",
       "      <th>1</th>\n",
       "      <td>DRA12</td>\n",
       "      <td>BABATUNJI013</td>\n",
       "      <td>DRA12_BABATUNJI013</td>\n",
       "      <td>11.60</td>\n",
       "      <td>Low Sugar</td>\n",
       "      <td>0.040912</td>\n",
       "      <td>Soft Drinks</td>\n",
       "      <td>355.79</td>\n",
       "      <td>1994</td>\n",
       "      <td>High</td>\n",
       "      <td>Cluster 3</td>\n",
       "      <td>Supermarket Type1</td>\n",
       "      <td>6381.69</td>\n",
       "      <td>27</td>\n",
       "    </tr>\n",
       "    <tr>\n",
       "      <th>2</th>\n",
       "      <td>DRA12</td>\n",
       "      <td>BABATUNJI017</td>\n",
       "      <td>DRA12_BABATUNJI017</td>\n",
       "      <td>11.60</td>\n",
       "      <td>Low Sugar</td>\n",
       "      <td>0.041178</td>\n",
       "      <td>Soft Drinks</td>\n",
       "      <td>350.79</td>\n",
       "      <td>2014</td>\n",
       "      <td>Medium</td>\n",
       "      <td>Cluster 2</td>\n",
       "      <td>Supermarket Type1</td>\n",
       "      <td>6381.69</td>\n",
       "      <td>7</td>\n",
       "    </tr>\n",
       "    <tr>\n",
       "      <th>3</th>\n",
       "      <td>DRA12</td>\n",
       "      <td>BABATUNJI018</td>\n",
       "      <td>DRA12_BABATUNJI018</td>\n",
       "      <td>11.60</td>\n",
       "      <td>Low Sugar</td>\n",
       "      <td>0.041113</td>\n",
       "      <td>Soft Drinks</td>\n",
       "      <td>355.04</td>\n",
       "      <td>2016</td>\n",
       "      <td>Medium</td>\n",
       "      <td>Cluster 3</td>\n",
       "      <td>Supermarket Type2</td>\n",
       "      <td>2127.23</td>\n",
       "      <td>5</td>\n",
       "    </tr>\n",
       "    <tr>\n",
       "      <th>4</th>\n",
       "      <td>DRA12</td>\n",
       "      <td>BABATUNJI035</td>\n",
       "      <td>DRA12_BABATUNJI035</td>\n",
       "      <td>11.60</td>\n",
       "      <td>Ultra Low Sugar</td>\n",
       "      <td>0.000000</td>\n",
       "      <td>Soft Drinks</td>\n",
       "      <td>354.79</td>\n",
       "      <td>2011</td>\n",
       "      <td>Small</td>\n",
       "      <td>Cluster 2</td>\n",
       "      <td>Supermarket Type1</td>\n",
       "      <td>2481.77</td>\n",
       "      <td>10</td>\n",
       "    </tr>\n",
       "    <tr>\n",
       "      <th>...</th>\n",
       "      <td>...</td>\n",
       "      <td>...</td>\n",
       "      <td>...</td>\n",
       "      <td>...</td>\n",
       "      <td>...</td>\n",
       "      <td>...</td>\n",
       "      <td>...</td>\n",
       "      <td>...</td>\n",
       "      <td>...</td>\n",
       "      <td>...</td>\n",
       "      <td>...</td>\n",
       "      <td>...</td>\n",
       "      <td>...</td>\n",
       "      <td>...</td>\n",
       "    </tr>\n",
       "    <tr>\n",
       "      <th>4985</th>\n",
       "      <td>NCZ54</td>\n",
       "      <td>BABATUNJI019</td>\n",
       "      <td>NCZ54_BABATUNJI019</td>\n",
       "      <td>12.90</td>\n",
       "      <td>Low Sugar</td>\n",
       "      <td>0.145952</td>\n",
       "      <td>Household</td>\n",
       "      <td>402.39</td>\n",
       "      <td>1992</td>\n",
       "      <td>Small</td>\n",
       "      <td>Cluster 1</td>\n",
       "      <td>Grocery Store</td>\n",
       "      <td>406.14</td>\n",
       "      <td>29</td>\n",
       "    </tr>\n",
       "    <tr>\n",
       "      <th>4986</th>\n",
       "      <td>NCZ54</td>\n",
       "      <td>BABATUNJI027</td>\n",
       "      <td>NCZ54_BABATUNJI027</td>\n",
       "      <td>12.90</td>\n",
       "      <td>Low Sugar</td>\n",
       "      <td>0.082956</td>\n",
       "      <td>Household</td>\n",
       "      <td>410.14</td>\n",
       "      <td>1992</td>\n",
       "      <td>Medium</td>\n",
       "      <td>Cluster 3</td>\n",
       "      <td>Supermarket Type3</td>\n",
       "      <td>13808.69</td>\n",
       "      <td>29</td>\n",
       "    </tr>\n",
       "    <tr>\n",
       "      <th>4987</th>\n",
       "      <td>NCZ54</td>\n",
       "      <td>BABATUNJI045</td>\n",
       "      <td>NCZ54_BABATUNJI045</td>\n",
       "      <td>14.65</td>\n",
       "      <td>Low Sugar</td>\n",
       "      <td>0.083528</td>\n",
       "      <td>Household</td>\n",
       "      <td>406.14</td>\n",
       "      <td>2009</td>\n",
       "      <td>Medium</td>\n",
       "      <td>Cluster 2</td>\n",
       "      <td>Supermarket Type1</td>\n",
       "      <td>5685.93</td>\n",
       "      <td>12</td>\n",
       "    </tr>\n",
       "    <tr>\n",
       "      <th>4988</th>\n",
       "      <td>NCZ54</td>\n",
       "      <td>BABATUNJI046</td>\n",
       "      <td>NCZ54_BABATUNJI046</td>\n",
       "      <td>14.65</td>\n",
       "      <td>Low Sugar</td>\n",
       "      <td>0.083359</td>\n",
       "      <td>Household</td>\n",
       "      <td>404.89</td>\n",
       "      <td>2004</td>\n",
       "      <td>Small</td>\n",
       "      <td>Cluster 1</td>\n",
       "      <td>Supermarket Type1</td>\n",
       "      <td>11778.00</td>\n",
       "      <td>17</td>\n",
       "    </tr>\n",
       "    <tr>\n",
       "      <th>4989</th>\n",
       "      <td>NCZ54</td>\n",
       "      <td>BABATUNJI049</td>\n",
       "      <td>NCZ54_BABATUNJI049</td>\n",
       "      <td>14.65</td>\n",
       "      <td>Low Sugar</td>\n",
       "      <td>0.083489</td>\n",
       "      <td>Household</td>\n",
       "      <td>403.39</td>\n",
       "      <td>2006</td>\n",
       "      <td>Medium</td>\n",
       "      <td>Cluster 1</td>\n",
       "      <td>Supermarket Type1</td>\n",
       "      <td>17870.07</td>\n",
       "      <td>15</td>\n",
       "    </tr>\n",
       "  </tbody>\n",
       "</table>\n",
       "<p>4990 rows × 14 columns</p>\n",
       "</div>"
      ],
      "text/plain": [
       "     Item_ID      Store_ID       Item_Store_ID  Item_Weight  \\\n",
       "0      DRA12  BABATUNJI010  DRA12_BABATUNJI010        11.60   \n",
       "1      DRA12  BABATUNJI013  DRA12_BABATUNJI013        11.60   \n",
       "2      DRA12  BABATUNJI017  DRA12_BABATUNJI017        11.60   \n",
       "3      DRA12  BABATUNJI018  DRA12_BABATUNJI018        11.60   \n",
       "4      DRA12  BABATUNJI035  DRA12_BABATUNJI035        11.60   \n",
       "...      ...           ...                 ...          ...   \n",
       "4985   NCZ54  BABATUNJI019  NCZ54_BABATUNJI019        12.90   \n",
       "4986   NCZ54  BABATUNJI027  NCZ54_BABATUNJI027        12.90   \n",
       "4987   NCZ54  BABATUNJI045  NCZ54_BABATUNJI045        14.65   \n",
       "4988   NCZ54  BABATUNJI046  NCZ54_BABATUNJI046        14.65   \n",
       "4989   NCZ54  BABATUNJI049  NCZ54_BABATUNJI049        14.65   \n",
       "\n",
       "     Item_Sugar_Content  Item_Visibility    Item_Type  Item_Price  \\\n",
       "0             Low Sugar         0.068535  Soft Drinks      357.54   \n",
       "1             Low Sugar         0.040912  Soft Drinks      355.79   \n",
       "2             Low Sugar         0.041178  Soft Drinks      350.79   \n",
       "3             Low Sugar         0.041113  Soft Drinks      355.04   \n",
       "4       Ultra Low Sugar         0.000000  Soft Drinks      354.79   \n",
       "...                 ...              ...          ...         ...   \n",
       "4985          Low Sugar         0.145952    Household      402.39   \n",
       "4986          Low Sugar         0.082956    Household      410.14   \n",
       "4987          Low Sugar         0.083528    Household      406.14   \n",
       "4988          Low Sugar         0.083359    Household      404.89   \n",
       "4989          Low Sugar         0.083489    Household      403.39   \n",
       "\n",
       "      Store_Start_Year Store_Size Store_Location_Type         Store_Type  \\\n",
       "0                 2005     Medium           Cluster 3      Grocery Store   \n",
       "1                 1994       High           Cluster 3  Supermarket Type1   \n",
       "2                 2014     Medium           Cluster 2  Supermarket Type1   \n",
       "3                 2016     Medium           Cluster 3  Supermarket Type2   \n",
       "4                 2011      Small           Cluster 2  Supermarket Type1   \n",
       "...                ...        ...                 ...                ...   \n",
       "4985              1992      Small           Cluster 1      Grocery Store   \n",
       "4986              1992     Medium           Cluster 3  Supermarket Type3   \n",
       "4987              2009     Medium           Cluster 2  Supermarket Type1   \n",
       "4988              2004      Small           Cluster 1  Supermarket Type1   \n",
       "4989              2006     Medium           Cluster 1  Supermarket Type1   \n",
       "\n",
       "      Item_Store_Returns  Store_Age  \n",
       "0                 709.08         16  \n",
       "1                6381.69         27  \n",
       "2                6381.69          7  \n",
       "3                2127.23          5  \n",
       "4                2481.77         10  \n",
       "...                  ...        ...  \n",
       "4985              406.14         29  \n",
       "4986            13808.69         29  \n",
       "4987             5685.93         12  \n",
       "4988            11778.00         17  \n",
       "4989            17870.07         15  \n",
       "\n",
       "[4990 rows x 14 columns]"
      ]
     },
     "execution_count": 15,
     "metadata": {},
     "output_type": "execute_result"
    }
   ],
   "source": [
    "# Finding the age of each store\n",
    "df['Store_Age'] = 2021 -df['Store_Start_Year']\n",
    "df"
   ]
  },
  {
   "cell_type": "code",
   "execution_count": 16,
   "metadata": {},
   "outputs": [
    {
     "data": {
      "text/plain": [
       "<AxesSubplot:xlabel='Store_Age', ylabel='Item_Store_Returns'>"
      ]
     },
     "execution_count": 16,
     "metadata": {},
     "output_type": "execute_result"
    },
    {
     "data": {
      "image/png": "[encoded data removed]",
      "text/plain": [
       "<Figure size 864x576 with 1 Axes>"
      ]
     },
     "metadata": {
      "needs_background": "light"
     },
     "output_type": "display_data"
    }
   ],
   "source": [
    "plt.figure(figsize=(12,8))\n",
    "sns.boxplot(x='Store_Age', y='Item_Store_Returns', hue='Store_Type', data=df)"
   ]
  },
  {
   "cell_type": "markdown",
   "metadata": {},
   "source": [
    "It can be infered from the data set that supermarket type 3 has the highest store returns,although the store age doesnt really have a trend has we can see for the store age 15.8 and 28 that they have low store returns"
   ]
  },
  {
   "cell_type": "code",
   "execution_count": 17,
   "metadata": {},
   "outputs": [
    {
     "data": {
      "text/plain": [
       "<AxesSubplot:xlabel='Store_Location_Type', ylabel='Item_Store_Returns'>"
      ]
     },
     "execution_count": 17,
     "metadata": {},
     "output_type": "execute_result"
    },
    {
     "data": {
      "image/png": "[encoded data removed]",
      "text/plain": [
       "<Figure size 720x576 with 1 Axes>"
      ]
     },
     "metadata": {
      "needs_background": "light"
     },
     "output_type": "display_data"
    }
   ],
   "source": [
    "plt.figure(figsize=(10,8))\n",
    "sns.boxplot(x='Store_Location_Type',y='Item_Store_Returns', data=df)"
   ]
  },
  {
   "cell_type": "markdown",
   "metadata": {},
   "source": [
    "It can infered from the dataset that stores located in cluster 3 had more sales followed by cluster 2, then cluster 1,"
   ]
  },
  {
   "cell_type": "code",
   "execution_count": 21,
   "metadata": {},
   "outputs": [
    {
     "data": {
      "image/png": "[encoded data removed]",
      "text/plain": [
       "<Figure size 1296x864 with 1 Axes>"
      ]
     },
     "metadata": {
      "needs_background": "light"
     },
     "output_type": "display_data"
    }
   ],
   "source": [
    "plt.figure(figsize=(18,12))\n",
    "sns.barplot(x='Item_Type', y='Item_Store_Returns',hue='Store_Location_Type', data=df)\n",
    "plt.xticks(rotation=45, ha='right')\n",
    "plt.show()"
   ]
  },
  {
   "cell_type": "markdown",
   "metadata": {},
   "source": [
    "It can be inferred from the above graph that starchy foods has the highest for cluster 2 and 1 and breakfast food in cluster 3 has the hishest store returns"
   ]
  },
  {
   "cell_type": "code",
   "execution_count": 19,
   "metadata": {},
   "outputs": [
    {
     "data": {
      "text/plain": [
       "<AxesSubplot:xlabel='Store_Size', ylabel='Item_Store_Returns'>"
      ]
     },
     "execution_count": 19,
     "metadata": {},
     "output_type": "execute_result"
    },
    {
     "data": {
      "image/png": "[encoded data removed]",
      "text/plain": [
       "<Figure size 864x432 with 1 Axes>"
      ]
     },
     "metadata": {
      "needs_background": "light"
     },
     "output_type": "display_data"
    }
   ],
   "source": [
    "plt.figure(figsize=(12,6))\n",
    "sns.boxplot(x='Store_Size', y='Item_Store_Returns', data=df)"
   ]
  },
  {
   "cell_type": "markdown",
   "metadata": {},
   "source": [
    "It can be infered from the above graph that medium store size has the highest sale followed by the small then the high store size"
   ]
  },
  {
   "cell_type": "code",
   "execution_count": 22,
   "metadata": {},
   "outputs": [
    {
     "data": {
      "text/plain": [
       "BABATUNJI049    620\n",
       "BABATUNJI013    594\n",
       "BABATUNJI017    583\n",
       "BABATUNJI035    515\n",
       "BABATUNJI046    509\n",
       "BABATUNJI018    500\n",
       "BABATUNJI045    483\n",
       "BABATUNJI027    462\n",
       "BABATUNJI010    384\n",
       "BABATUNJI019    340\n",
       "Name: Store_ID, dtype: int64"
      ]
     },
     "execution_count": 22,
     "metadata": {},
     "output_type": "execute_result"
    }
   ],
   "source": [
    "df['Store_ID'].value_counts()"
   ]
  },
  {
   "cell_type": "code",
   "execution_count": 25,
   "metadata": {},
   "outputs": [],
   "source": [
    "Stores = df.groupby('Store_ID')"
   ]
  },
  {
   "cell_type": "code",
   "execution_count": 26,
   "metadata": {},
   "outputs": [
    {
     "data": {
      "text/html": [
       "<div>\n",
       "<style scoped>\n",
       "    .dataframe tbody tr th:only-of-type {\n",
       "        vertical-align: middle;\n",
       "    }\n",
       "\n",
       "    .dataframe tbody tr th {\n",
       "        vertical-align: top;\n",
       "    }\n",
       "\n",
       "    .dataframe thead th {\n",
       "        text-align: right;\n",
       "    }\n",
       "</style>\n",
       "<table border=\"1\" class=\"dataframe\">\n",
       "  <thead>\n",
       "    <tr style=\"text-align: right;\">\n",
       "      <th></th>\n",
       "      <th>Item_Weight</th>\n",
       "      <th>Item_Visibility</th>\n",
       "      <th>Item_Price</th>\n",
       "      <th>Store_Start_Year</th>\n",
       "      <th>Item_Store_Returns</th>\n",
       "      <th>Store_Age</th>\n",
       "    </tr>\n",
       "    <tr>\n",
       "      <th>Store_ID</th>\n",
       "      <th></th>\n",
       "      <th></th>\n",
       "      <th></th>\n",
       "      <th></th>\n",
       "      <th></th>\n",
       "      <th></th>\n",
       "    </tr>\n",
       "  </thead>\n",
       "  <tbody>\n",
       "    <tr>\n",
       "      <th>BABATUNJI010</th>\n",
       "      <td>4945.965</td>\n",
       "      <td>39.398329</td>\n",
       "      <td>104234.38</td>\n",
       "      <td>769920</td>\n",
       "      <td>240638.60</td>\n",
       "      <td>6144</td>\n",
       "    </tr>\n",
       "    <tr>\n",
       "      <th>BABATUNJI013</th>\n",
       "      <td>7609.240</td>\n",
       "      <td>34.949318</td>\n",
       "      <td>151975.79</td>\n",
       "      <td>1184436</td>\n",
       "      <td>2407829.22</td>\n",
       "      <td>16038</td>\n",
       "    </tr>\n",
       "    <tr>\n",
       "      <th>BABATUNJI017</th>\n",
       "      <td>7535.455</td>\n",
       "      <td>35.107191</td>\n",
       "      <td>259352.45</td>\n",
       "      <td>1174162</td>\n",
       "      <td>4370201.60</td>\n",
       "      <td>4081</td>\n",
       "    </tr>\n",
       "    <tr>\n",
       "      <th>BABATUNJI018</th>\n",
       "      <td>6494.185</td>\n",
       "      <td>30.564383</td>\n",
       "      <td>192849.77</td>\n",
       "      <td>1008000</td>\n",
       "      <td>2770310.84</td>\n",
       "      <td>2500</td>\n",
       "    </tr>\n",
       "    <tr>\n",
       "      <th>BABATUNJI019</th>\n",
       "      <td>4386.000</td>\n",
       "      <td>37.774849</td>\n",
       "      <td>149500.22</td>\n",
       "      <td>677280</td>\n",
       "      <td>357844.32</td>\n",
       "      <td>9860</td>\n",
       "    </tr>\n",
       "    <tr>\n",
       "      <th>BABATUNJI027</th>\n",
       "      <td>5959.800</td>\n",
       "      <td>27.267124</td>\n",
       "      <td>219606.99</td>\n",
       "      <td>920304</td>\n",
       "      <td>5803269.64</td>\n",
       "      <td>13398</td>\n",
       "    </tr>\n",
       "    <tr>\n",
       "      <th>BABATUNJI035</th>\n",
       "      <td>6729.230</td>\n",
       "      <td>31.194159</td>\n",
       "      <td>237277.16</td>\n",
       "      <td>1035665</td>\n",
       "      <td>4058828.52</td>\n",
       "      <td>5150</td>\n",
       "    </tr>\n",
       "    <tr>\n",
       "      <th>BABATUNJI045</th>\n",
       "      <td>6129.155</td>\n",
       "      <td>29.444659</td>\n",
       "      <td>226543.31</td>\n",
       "      <td>970347</td>\n",
       "      <td>3567311.83</td>\n",
       "      <td>5796</td>\n",
       "    </tr>\n",
       "    <tr>\n",
       "      <th>BABATUNJI046</th>\n",
       "      <td>6597.860</td>\n",
       "      <td>30.213267</td>\n",
       "      <td>181327.58</td>\n",
       "      <td>1020036</td>\n",
       "      <td>2945704.10</td>\n",
       "      <td>8653</td>\n",
       "    </tr>\n",
       "    <tr>\n",
       "      <th>BABATUNJI049</th>\n",
       "      <td>8021.125</td>\n",
       "      <td>37.998780</td>\n",
       "      <td>232433.29</td>\n",
       "      <td>1243720</td>\n",
       "      <td>3934626.95</td>\n",
       "      <td>9300</td>\n",
       "    </tr>\n",
       "  </tbody>\n",
       "</table>\n",
       "</div>"
      ],
      "text/plain": [
       "              Item_Weight  Item_Visibility  Item_Price  Store_Start_Year  \\\n",
       "Store_ID                                                                   \n",
       "BABATUNJI010     4945.965        39.398329   104234.38            769920   \n",
       "BABATUNJI013     7609.240        34.949318   151975.79           1184436   \n",
       "BABATUNJI017     7535.455        35.107191   259352.45           1174162   \n",
       "BABATUNJI018     6494.185        30.564383   192849.77           1008000   \n",
       "BABATUNJI019     4386.000        37.774849   149500.22            677280   \n",
       "BABATUNJI027     5959.800        27.267124   219606.99            920304   \n",
       "BABATUNJI035     6729.230        31.194159   237277.16           1035665   \n",
       "BABATUNJI045     6129.155        29.444659   226543.31            970347   \n",
       "BABATUNJI046     6597.860        30.213267   181327.58           1020036   \n",
       "BABATUNJI049     8021.125        37.998780   232433.29           1243720   \n",
       "\n",
       "              Item_Store_Returns  Store_Age  \n",
       "Store_ID                                     \n",
       "BABATUNJI010           240638.60       6144  \n",
       "BABATUNJI013          2407829.22      16038  \n",
       "BABATUNJI017          4370201.60       4081  \n",
       "BABATUNJI018          2770310.84       2500  \n",
       "BABATUNJI019           357844.32       9860  \n",
       "BABATUNJI027          5803269.64      13398  \n",
       "BABATUNJI035          4058828.52       5150  \n",
       "BABATUNJI045          3567311.83       5796  \n",
       "BABATUNJI046          2945704.10       8653  \n",
       "BABATUNJI049          3934626.95       9300  "
      ]
     },
     "execution_count": 26,
     "metadata": {},
     "output_type": "execute_result"
    }
   ],
   "source": [
    "Stores.sum()"
   ]
  },
  {
   "cell_type": "code",
   "execution_count": 27,
   "metadata": {},
   "outputs": [
    {
     "data": {
      "text/plain": [
       "Store_ID\n",
       "BABATUNJI010     240638.60\n",
       "BABATUNJI013    2407829.22\n",
       "BABATUNJI017    4370201.60\n",
       "BABATUNJI018    2770310.84\n",
       "BABATUNJI019     357844.32\n",
       "BABATUNJI027    5803269.64\n",
       "BABATUNJI035    4058828.52\n",
       "BABATUNJI045    3567311.83\n",
       "BABATUNJI046    2945704.10\n",
       "BABATUNJI049    3934626.95\n",
       "Name: Item_Store_Returns, dtype: float64"
      ]
     },
     "execution_count": 27,
     "metadata": {},
     "output_type": "execute_result"
    }
   ],
   "source": [
    "Stores['Item_Store_Returns'].sum()"
   ]
  },
  {
   "cell_type": "code",
   "execution_count": 20,
   "metadata": {},
   "outputs": [
    {
     "name": "stderr",
     "output_type": "stream",
     "text": [
      "C:\\Users\\ANGEL GAD\\Anaconda3\\lib\\site-packages\\seaborn\\categorical.py:3704: UserWarning: The `factorplot` function has been renamed to `catplot`. The original name will be removed in a future release. Please update your code. Note that the default `kind` in `factorplot` (`'point'`) has changed `'strip'` in `catplot`.\n",
      "  warnings.warn(msg)\n",
      "C:\\Users\\ANGEL GAD\\Anaconda3\\lib\\site-packages\\seaborn\\categorical.py:3710: UserWarning: The `size` parameter has been renamed to `height`; please update your code.\n",
      "  warnings.warn(msg, UserWarning)\n"
     ]
    },
    {
     "data": {
      "image/png": "[encoded data removed]",
      "text/plain": [
       "<Figure size 432x432 with 1 Axes>"
      ]
     },
     "metadata": {
      "needs_background": "light"
     },
     "output_type": "display_data"
    }
   ],
   "source": [
    "g = sns.factorplot(x=\"Store_ID\",y=\"Item_Store_Returns\",data=df,kind=\"bar\", size = 6 , \n",
    "palette = \"muted\")\n",
    "g.despine(left=True)\n",
    "plt.xticks(rotation=45,ha='right')\n",
    "plt.show()"
   ]
  },
  {
   "cell_type": "markdown",
   "metadata": {},
   "source": [
    "from the above plot an intuition that can be goten is that store babatunji027 has the highest store sale and its is really high relatively to the other store type so it can be investigated to see what they are doing right maybe its the type of food they sell that makes this so or the location or otherwise."
   ]
  },
  {
   "cell_type": "code",
   "execution_count": 71,
   "metadata": {},
   "outputs": [
    {
     "data": {
      "text/plain": [
       "<AxesSubplot:xlabel='Store_Location_Type', ylabel='Item_Store_Returns'>"
      ]
     },
     "execution_count": 71,
     "metadata": {},
     "output_type": "execute_result"
    },
    {
     "data": {
      "image/png": "[encoded data removed]",
      "text/plain": [
       "<Figure size 864x720 with 1 Axes>"
      ]
     },
     "metadata": {
      "needs_background": "light"
     },
     "output_type": "display_data"
    }
   ],
   "source": [
    "plt.figure(figsize=(12,10))\n",
    "sns.barplot(x='Store_Location_Type', y='Item_Store_Returns',hue='Store_Type', data=df)"
   ]
  },
  {
   "cell_type": "markdown",
   "metadata": {},
   "source": [
    "plotting the store location type to the store returns on different clusters we can see from the plot that cluster 3 is doing pretty well on sales."
   ]
  },
  {
   "cell_type": "markdown",
   "metadata": {},
   "source": [
    "# RECCOMENDATIONS"
   ]
  },
  {
   "cell_type": "markdown",
   "metadata": {},
   "source": [
    "BABATUNJI STORES ACTUALLY WANTS TO EXPAND AND THERE ARE SEVERAL FEATURES FROM THE DATA GIVEN THAT AS GIVEN ME AN INTUITION HAS TO HOW TO HELP YOU WITH THIS SOLUTION,WE CAN MAKE MORE STORES CLUSTER 3 TYPE WITH MEDIUM SIZE AND MORE STARCHY FOODS SHOULD BE SUPPLIED HAS CUSTOMERS SEEMS TO BUY MORE STARCHY FOODS AND WE CAN ALSO LOOK INTO babatunji027 TO SEE WHAT THEY ARE DOING RIGHT.\n",
    "THANK YOU!!!"
   ]
  }
 ],
 "metadata": {
  "kernelspec": {
   "display_name": "Python 3",
   "language": "python",
   "name": "python3"
  },
  "language_info": {
   "codemirror_mode": {
    "name": "ipython",
    "version": 3
   },
   "file_extension": ".py",
   "mimetype": "text/x-python",
   "name": "python",
   "nbconvert_exporter": "python",
   "pygments_lexer": "ipython3",
   "version": "3.8.5"
  }
 },
 "nbformat": 4,
 "nbformat_minor": 4
}
